{
 "cells": [
  {
   "cell_type": "code",
   "execution_count": 2,
   "id": "6470bc47-2fce-4166-b903-b3bc6ccd28fb",
   "metadata": {},
   "outputs": [
    {
     "name": "stdout",
     "output_type": "stream",
     "text": [
      "Requirement already satisfied: seaborn in /home/ec2-user/anaconda3/envs/python3/lib/python3.10/site-packages (0.13.2)\n",
      "Requirement already satisfied: numpy!=1.24.0,>=1.20 in /home/ec2-user/anaconda3/envs/python3/lib/python3.10/site-packages (from seaborn) (1.22.4)\n",
      "Requirement already satisfied: pandas>=1.2 in /home/ec2-user/anaconda3/envs/python3/lib/python3.10/site-packages (from seaborn) (2.2.2)\n",
      "Requirement already satisfied: matplotlib!=3.6.1,>=3.4 in /home/ec2-user/anaconda3/envs/python3/lib/python3.10/site-packages (from seaborn) (3.8.4)\n",
      "Requirement already satisfied: contourpy>=1.0.1 in /home/ec2-user/anaconda3/envs/python3/lib/python3.10/site-packages (from matplotlib!=3.6.1,>=3.4->seaborn) (1.2.1)\n",
      "Requirement already satisfied: cycler>=0.10 in /home/ec2-user/anaconda3/envs/python3/lib/python3.10/site-packages (from matplotlib!=3.6.1,>=3.4->seaborn) (0.12.1)\n",
      "Requirement already satisfied: fonttools>=4.22.0 in /home/ec2-user/anaconda3/envs/python3/lib/python3.10/site-packages (from matplotlib!=3.6.1,>=3.4->seaborn) (4.53.0)\n",
      "Requirement already satisfied: kiwisolver>=1.3.1 in /home/ec2-user/anaconda3/envs/python3/lib/python3.10/site-packages (from matplotlib!=3.6.1,>=3.4->seaborn) (1.4.5)\n",
      "Requirement already satisfied: packaging>=20.0 in /home/ec2-user/anaconda3/envs/python3/lib/python3.10/site-packages (from matplotlib!=3.6.1,>=3.4->seaborn) (21.3)\n",
      "Requirement already satisfied: pillow>=8 in /home/ec2-user/anaconda3/envs/python3/lib/python3.10/site-packages (from matplotlib!=3.6.1,>=3.4->seaborn) (10.3.0)\n",
      "Requirement already satisfied: pyparsing>=2.3.1 in /home/ec2-user/anaconda3/envs/python3/lib/python3.10/site-packages (from matplotlib!=3.6.1,>=3.4->seaborn) (3.1.2)\n",
      "Requirement already satisfied: python-dateutil>=2.7 in /home/ec2-user/anaconda3/envs/python3/lib/python3.10/site-packages (from matplotlib!=3.6.1,>=3.4->seaborn) (2.9.0)\n",
      "Requirement already satisfied: pytz>=2020.1 in /home/ec2-user/anaconda3/envs/python3/lib/python3.10/site-packages (from pandas>=1.2->seaborn) (2024.1)\n",
      "Requirement already satisfied: tzdata>=2022.7 in /home/ec2-user/anaconda3/envs/python3/lib/python3.10/site-packages (from pandas>=1.2->seaborn) (2024.1)\n",
      "Requirement already satisfied: six>=1.5 in /home/ec2-user/anaconda3/envs/python3/lib/python3.10/site-packages (from python-dateutil>=2.7->matplotlib!=3.6.1,>=3.4->seaborn) (1.16.0)\n",
      "sagemaker.config INFO - Not applying SDK defaults from location: /etc/xdg/sagemaker/config.yaml\n",
      "sagemaker.config INFO - Not applying SDK defaults from location: /home/ec2-user/.config/sagemaker/config.yaml\n",
      "Running\n"
     ]
    }
   ],
   "source": [
    "!pip install seaborn\n",
    "import seaborn as sns\n",
    "import pandas as pd\n",
    "import numpy as np\n",
    "import boto3\n",
    "import sagemaker\n",
    "import time\n",
    "import warnings\n",
    "\n",
    "import matplotlib.pyplot as plt\n",
    "\n",
    "from sklearn.model_selection import train_test_split\n",
    "from sklearn import datasets\n",
    "from sklearn.model_selection import train_test_split\n",
    "from sklearn import tree\n",
    "warnings.filterwarnings('ignore')\n",
    "\n",
    "X_train= pd.read_csv(\"s3://pollution-predictor-1/X_train.csv\")\n",
    "X_test= pd.read_csv(\"s3://pollution-predictor-1/X_test.csv\") \n",
    "y_train= pd.read_csv(\"s3://pollution-predictor-1/y_train.csv\") \n",
    "y_test= pd.read_csv(\"s3://pollution-predictor-1/y_test.csv\") \n",
    "\n",
    "del X_train['Unnamed: 24']\n",
    "del X_test['Unnamed: 24']\n",
    "#del X_train['NO2 1st Max Hour']\n",
    "#del X_test['NO2 1st Max Hour']\n",
    "#del X_train['NO2 1st Max Value']\n",
    "#del X_test['NO2 1st Max Value']\n",
    "#del X_train['NO2 Mean']\n",
    "#del X_test['NO2 Mean']\n",
    "print(\"Running\")"
   ]
  },
  {
   "cell_type": "code",
   "execution_count": 12,
   "id": "4921faa8",
   "metadata": {},
   "outputs": [
    {
     "name": "stdout",
     "output_type": "stream",
     "text": [
      "11 0.9424655188963023 16.463547468185425\n",
      "12 0.9422477062793237 16.654886722564697\n",
      "13 0.9418000540257412 17.369649171829224\n"
     ]
    },
    {
     "data": {
      "image/png": "[encoded data removed]",
      "text/plain": [
       "<Figure size 640x480 with 1 Axes>"
      ]
     },
     "metadata": {},
     "output_type": "display_data"
    },
    {
     "name": "stdout",
     "output_type": "stream",
     "text": [
      "The best accuracy for Sklearn KNN is at k = 11 with accuracy 94.24655188963023%\n",
      "Time Taken: 50.76379919052124\n"
     ]
    }
   ],
   "source": [
    "def plot_accuracy(accuracy_per_k, classifier_name):\n",
    "    k_values = list(accuracy_per_k.keys())\n",
    "    accuracy = list(accuracy_per_k.values())\n",
    "\n",
    "    sns.set(style=\"whitegrid\")\n",
    "    df = pd.DataFrame({\n",
    "        'k': k_values,\n",
    "        'accuracy': accuracy\n",
    "    })\n",
    "    sns.barplot(x='k', y='accuracy', data=df)\n",
    "\n",
    "    plt.xlabel(\"k\")\n",
    "    plt.ylabel(\"Accuracy (%)\")\n",
    "    plt.title(f\"Accuracy of KNN per k for {classifier_name}\")\n",
    "    plt.show()\n",
    "\n",
    "from sklearn.neighbors import KNeighborsRegressor\n",
    "from sklearn.metrics import classification_report\n",
    "\n",
    "def find_best_k(X_train, X_test, y_train, y_test):\n",
    "    best_k = 0\n",
    "    best_accuracy = 0\n",
    "    accuracy_per_k = {}\n",
    "\n",
    "    for k in range(11,14):\n",
    "        t_=time.time()\n",
    "        classifier = KNeighborsRegressor(k)\n",
    "        classifier.fit(X_train, y_train)\n",
    "\n",
    "        y_pred = classifier.predict(X_test)\n",
    "        accuracy_per_k[k] = classifier.score(X_test, y_test)\n",
    "\n",
    "        if accuracy_per_k[k] > best_accuracy:\n",
    "            best_k = k\n",
    "            best_accuracy = accuracy_per_k[k]\n",
    "        t__=time.time()\n",
    "        print(k,accuracy_per_k[k],t__-t_)\n",
    "    plot_accuracy(accuracy_per_k, \"Classifier\")\n",
    "    return best_k, best_accuracy\n",
    "t = time.time()\n",
    "best_k, best_accuracy = find_best_k(X_train, X_test, y_train, y_test)\n",
    "t1=time.time()\n",
    "print(f\"The best accuracy for Sklearn KNN is at k = {best_k} with accuracy {best_accuracy * 100}%\")\n",
    "print(\"Time Taken:\",t1-t)"
   ]
  },
  {
   "cell_type": "code",
   "execution_count": null,
   "id": "cbfacdeb",
   "metadata": {},
   "outputs": [],
   "source": []
  }
 ],
 "metadata": {
  "kernelspec": {
   "display_name": "conda_python3",
   "language": "python",
   "name": "conda_python3"
  },
  "language_info": {
   "codemirror_mode": {
    "name": "ipython",
    "version": 3
   },
   "file_extension": ".py",
   "mimetype": "text/x-python",
   "name": "python",
   "nbconvert_exporter": "python",
   "pygments_lexer": "ipython3",
   "version": "3.10.14"
  }
 },
 "nbformat": 4,
 "nbformat_minor": 5
}
