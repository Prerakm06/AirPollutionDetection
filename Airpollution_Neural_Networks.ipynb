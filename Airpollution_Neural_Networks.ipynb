{
 "cells": [
  {
   "cell_type": "code",
   "execution_count": 3,
   "id": "a12b3036",
   "metadata": {},
   "outputs": [
    {
     "name": "stdout",
     "output_type": "stream",
     "text": [
      "Training finished in 8.11807131767273 seconds\n",
      "Score: 0.9999165681751092. Scoring took 0.017500877380371094 seconds\n"
     ]
    }
   ],
   "source": [
    "import pandas as pd\n",
    "from sklearn.neural_network import MLPRegressor\n",
    "import time\n",
    "\n",
    "X_train= pd.read_csv(\"s3://pollution-predictor-1/X_train.csv\")\n",
    "X_test= pd.read_csv(\"s3://pollution-predictor-1/X_test.csv\") \n",
    "y_train= pd.read_csv(\"s3://pollution-predictor-1/y_train.csv\") \n",
    "y_test= pd.read_csv(\"s3://pollution-predictor-1/y_test.csv\") \n",
    "\n",
    "del X_train['Unnamed: 24']\n",
    "del X_test['Unnamed: 24']\n",
    "del X_train['NO2 1st Max Hour']\n",
    "del X_test['NO2 1st Max Hour']\n",
    "del X_train['NO2 1st Max Value']\n",
    "del X_test['NO2 1st Max Value']\n",
    "del X_train['NO2 Mean']\n",
    "del X_test['NO2 Mean']\n",
    "\n",
    "orig_train_start_time = time.time()\n",
    "regr = MLPRegressor(max_iter=500).fit(X_train, y_train.values.ravel())\n",
    "orig_train_total_time = time.time() - orig_train_start_time\n",
    "\n",
    "orig_test_start_time = time.time()\n",
    "orig_score = regr.score(X_test, y_test)\n",
    "orig_test_total_time = time.time() - orig_test_start_time\n",
    "\n",
    "print(f\"Training finished in {orig_train_total_time} seconds\")\n",
    "print(f\"Score: {orig_score}. Scoring took {orig_test_total_time} seconds\")"
   ]
  }
 ],
 "metadata": {
  "kernelspec": {
   "display_name": "conda_python3",
   "language": "python",
   "name": "conda_python3"
  },
  "language_info": {
   "codemirror_mode": {
    "name": "ipython",
    "version": 3
   },
   "file_extension": ".py",
   "mimetype": "text/x-python",
   "name": "python",
   "nbconvert_exporter": "python",
   "pygments_lexer": "ipython3",
   "version": "3.10.14"
  }
 },
 "nbformat": 4,
 "nbformat_minor": 5
}
