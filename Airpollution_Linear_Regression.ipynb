{
 "cells": [
  {
   "cell_type": "code",
   "execution_count": 5,
   "id": "cdfcadb1",
   "metadata": {},
   "outputs": [
    {
     "name": "stdout",
     "output_type": "stream",
     "text": [
      "Sample predictions: [[ 1.457632  ]\n",
      " [-0.65279607]\n",
      " [-1.37825572]\n",
      " [ 2.84260042]\n",
      " [-1.24635397]]\n",
      "Sample actual values:     NO2 AQI\n",
      "0  1.457632\n",
      "1 -0.652796\n",
      "2 -1.378256\n",
      "3  2.842600\n",
      "4 -1.246354\n",
      "R^2 Score: 1.0\n",
      "The accuracy of the classifier on the test set is 100.0%\n"
     ]
    }
   ],
   "source": [
    "import boto3\n",
    "import pandas as pd\n",
    "from sklearn.linear_model import LinearRegression\n",
    "from sklearn.metrics import r2_score\n",
    "\n",
    "x_train_key = 'X_train.csv'\n",
    "x_test_key = 'X_test.csv'\n",
    "y_train_key = 'y_train.csv'\n",
    "y_test_key = 'y_test.csv'\n",
    "\n",
    "X_train= pd.read_csv(\"s3://pollution-predictor-1/X_train.csv\")\n",
    "X_test= pd.read_csv(\"s3://pollution-predictor-1/X_test.csv\") \n",
    "y_train= pd.read_csv(\"s3://pollution-predictor-1/y_train.csv\") \n",
    "y_test= pd.read_csv(\"s3://pollution-predictor-1/y_test.csv\") \n",
    "\n",
    "del X_train['Unnamed: 24']\n",
    "del X_test['Unnamed: 24']\n",
    "del X_train['NO2 1st Max Hour']\n",
    "del X_test['NO2 1st Max Hour']\n",
    "del X_train['NO2 1st Max Value']\n",
    "del X_test['NO2 1st Max Value']\n",
    "del X_train['NO2 Mean']\n",
    "del X_test['NO2 Mean']\n",
    "\n",
    "\n",
    "clf = LinearRegression()\n",
    "clf.fit(X_train, y_train)\n",
    "\n",
    "y_pred = clf.predict(X_test)\n",
    "print(\"Sample predictions:\", y_pred[:5])\n",
    "print(\"Sample actual values:\", y_test.head())\n",
    "\n",
    "y_pred = clf.predict(X_test)\n",
    "\n",
    "r2 = r2_score(y_test, y_pred)\n",
    "print(f\"R^2 Score: {r2}\")\n",
    "\n",
    "print(f\"The accuracy of the classifier on the test set is {clf.score(X_test, y_test) * 100}%\")"
   ]
  }
 ],
 "metadata": {
  "kernelspec": {
   "display_name": "conda_python3",
   "language": "python",
   "name": "conda_python3"
  },
  "language_info": {
   "codemirror_mode": {
    "name": "ipython",
    "version": 3
   },
   "file_extension": ".py",
   "mimetype": "text/x-python",
   "name": "python",
   "nbconvert_exporter": "python",
   "pygments_lexer": "ipython3",
   "version": "3.10.14"
  }
 },
 "nbformat": 4,
 "nbformat_minor": 5
}
